{
  "cells": [
    {
      "cell_type": "markdown",
      "metadata": {
        "id": "a4KP0Qf-N_C6"
      },
      "source": [
        "# Modelando la Pandemia\n"
      ]
    },
    {
      "cell_type": "markdown",
      "metadata": {},
      "source": [
        "# 01 - Exploración de Datos y Medición de K"
      ]
    },
    {
      "cell_type": "code",
      "execution_count": 1,
      "metadata": {
        "id": "EeoJPP0uVEdB"
      },
      "outputs": [],
      "source": [
        "import numpy as np\n",
        "import pandas as pd\n",
        "import pylab as plt\n",
        "from scipy.optimize import curve_fit\n",
        "from statistics import mean"
      ]
    },
    {
      "cell_type": "code",
      "execution_count": 2,
      "metadata": {
        "colab": {
          "base_uri": "https://localhost:8080/"
        },
        "id": "aR3RjqhnVLRB",
        "outputId": "e843ee29-a24c-4844-bbd0-2d57f62822a9"
      },
      "outputs": [
        {
          "data": {
            "text/html": [
              "<div>\n",
              "<style scoped>\n",
              "    .dataframe tbody tr th:only-of-type {\n",
              "        vertical-align: middle;\n",
              "    }\n",
              "\n",
              "    .dataframe tbody tr th {\n",
              "        vertical-align: top;\n",
              "    }\n",
              "\n",
              "    .dataframe thead th {\n",
              "        text-align: right;\n",
              "    }\n",
              "</style>\n",
              "<table border=\"1\" class=\"dataframe\">\n",
              "  <thead>\n",
              "    <tr style=\"text-align: right;\">\n",
              "      <th></th>\n",
              "      <th>iso_code</th>\n",
              "      <th>continent</th>\n",
              "      <th>location</th>\n",
              "      <th>date</th>\n",
              "      <th>total_cases</th>\n",
              "      <th>new_cases</th>\n",
              "      <th>new_cases_smoothed</th>\n",
              "      <th>total_deaths</th>\n",
              "      <th>new_deaths</th>\n",
              "      <th>new_deaths_smoothed</th>\n",
              "      <th>...</th>\n",
              "      <th>female_smokers</th>\n",
              "      <th>male_smokers</th>\n",
              "      <th>handwashing_facilities</th>\n",
              "      <th>hospital_beds_per_thousand</th>\n",
              "      <th>life_expectancy</th>\n",
              "      <th>human_development_index</th>\n",
              "      <th>excess_mortality_cumulative_absolute</th>\n",
              "      <th>excess_mortality_cumulative</th>\n",
              "      <th>excess_mortality</th>\n",
              "      <th>excess_mortality_cumulative_per_million</th>\n",
              "    </tr>\n",
              "  </thead>\n",
              "  <tbody>\n",
              "    <tr>\n",
              "      <th>0</th>\n",
              "      <td>AFG</td>\n",
              "      <td>Asia</td>\n",
              "      <td>Afghanistan</td>\n",
              "      <td>2020-02-24</td>\n",
              "      <td>5.0</td>\n",
              "      <td>5.0</td>\n",
              "      <td>NaN</td>\n",
              "      <td>NaN</td>\n",
              "      <td>NaN</td>\n",
              "      <td>NaN</td>\n",
              "      <td>...</td>\n",
              "      <td>NaN</td>\n",
              "      <td>NaN</td>\n",
              "      <td>37.746</td>\n",
              "      <td>0.5</td>\n",
              "      <td>64.83</td>\n",
              "      <td>0.511</td>\n",
              "      <td>NaN</td>\n",
              "      <td>NaN</td>\n",
              "      <td>NaN</td>\n",
              "      <td>NaN</td>\n",
              "    </tr>\n",
              "    <tr>\n",
              "      <th>1</th>\n",
              "      <td>AFG</td>\n",
              "      <td>Asia</td>\n",
              "      <td>Afghanistan</td>\n",
              "      <td>2020-02-25</td>\n",
              "      <td>5.0</td>\n",
              "      <td>0.0</td>\n",
              "      <td>NaN</td>\n",
              "      <td>NaN</td>\n",
              "      <td>NaN</td>\n",
              "      <td>NaN</td>\n",
              "      <td>...</td>\n",
              "      <td>NaN</td>\n",
              "      <td>NaN</td>\n",
              "      <td>37.746</td>\n",
              "      <td>0.5</td>\n",
              "      <td>64.83</td>\n",
              "      <td>0.511</td>\n",
              "      <td>NaN</td>\n",
              "      <td>NaN</td>\n",
              "      <td>NaN</td>\n",
              "      <td>NaN</td>\n",
              "    </tr>\n",
              "    <tr>\n",
              "      <th>2</th>\n",
              "      <td>AFG</td>\n",
              "      <td>Asia</td>\n",
              "      <td>Afghanistan</td>\n",
              "      <td>2020-02-26</td>\n",
              "      <td>5.0</td>\n",
              "      <td>0.0</td>\n",
              "      <td>NaN</td>\n",
              "      <td>NaN</td>\n",
              "      <td>NaN</td>\n",
              "      <td>NaN</td>\n",
              "      <td>...</td>\n",
              "      <td>NaN</td>\n",
              "      <td>NaN</td>\n",
              "      <td>37.746</td>\n",
              "      <td>0.5</td>\n",
              "      <td>64.83</td>\n",
              "      <td>0.511</td>\n",
              "      <td>NaN</td>\n",
              "      <td>NaN</td>\n",
              "      <td>NaN</td>\n",
              "      <td>NaN</td>\n",
              "    </tr>\n",
              "    <tr>\n",
              "      <th>3</th>\n",
              "      <td>AFG</td>\n",
              "      <td>Asia</td>\n",
              "      <td>Afghanistan</td>\n",
              "      <td>2020-02-27</td>\n",
              "      <td>5.0</td>\n",
              "      <td>0.0</td>\n",
              "      <td>NaN</td>\n",
              "      <td>NaN</td>\n",
              "      <td>NaN</td>\n",
              "      <td>NaN</td>\n",
              "      <td>...</td>\n",
              "      <td>NaN</td>\n",
              "      <td>NaN</td>\n",
              "      <td>37.746</td>\n",
              "      <td>0.5</td>\n",
              "      <td>64.83</td>\n",
              "      <td>0.511</td>\n",
              "      <td>NaN</td>\n",
              "      <td>NaN</td>\n",
              "      <td>NaN</td>\n",
              "      <td>NaN</td>\n",
              "    </tr>\n",
              "    <tr>\n",
              "      <th>4</th>\n",
              "      <td>AFG</td>\n",
              "      <td>Asia</td>\n",
              "      <td>Afghanistan</td>\n",
              "      <td>2020-02-28</td>\n",
              "      <td>5.0</td>\n",
              "      <td>0.0</td>\n",
              "      <td>NaN</td>\n",
              "      <td>NaN</td>\n",
              "      <td>NaN</td>\n",
              "      <td>NaN</td>\n",
              "      <td>...</td>\n",
              "      <td>NaN</td>\n",
              "      <td>NaN</td>\n",
              "      <td>37.746</td>\n",
              "      <td>0.5</td>\n",
              "      <td>64.83</td>\n",
              "      <td>0.511</td>\n",
              "      <td>NaN</td>\n",
              "      <td>NaN</td>\n",
              "      <td>NaN</td>\n",
              "      <td>NaN</td>\n",
              "    </tr>\n",
              "  </tbody>\n",
              "</table>\n",
              "<p>5 rows × 67 columns</p>\n",
              "</div>"
            ],
            "text/plain": [
              "  iso_code continent     location        date  total_cases  new_cases  \\\n",
              "0      AFG      Asia  Afghanistan  2020-02-24          5.0        5.0   \n",
              "1      AFG      Asia  Afghanistan  2020-02-25          5.0        0.0   \n",
              "2      AFG      Asia  Afghanistan  2020-02-26          5.0        0.0   \n",
              "3      AFG      Asia  Afghanistan  2020-02-27          5.0        0.0   \n",
              "4      AFG      Asia  Afghanistan  2020-02-28          5.0        0.0   \n",
              "\n",
              "   new_cases_smoothed  total_deaths  new_deaths  new_deaths_smoothed  ...  \\\n",
              "0                 NaN           NaN         NaN                  NaN  ...   \n",
              "1                 NaN           NaN         NaN                  NaN  ...   \n",
              "2                 NaN           NaN         NaN                  NaN  ...   \n",
              "3                 NaN           NaN         NaN                  NaN  ...   \n",
              "4                 NaN           NaN         NaN                  NaN  ...   \n",
              "\n",
              "   female_smokers  male_smokers  handwashing_facilities  \\\n",
              "0             NaN           NaN                  37.746   \n",
              "1             NaN           NaN                  37.746   \n",
              "2             NaN           NaN                  37.746   \n",
              "3             NaN           NaN                  37.746   \n",
              "4             NaN           NaN                  37.746   \n",
              "\n",
              "   hospital_beds_per_thousand  life_expectancy  human_development_index  \\\n",
              "0                         0.5            64.83                    0.511   \n",
              "1                         0.5            64.83                    0.511   \n",
              "2                         0.5            64.83                    0.511   \n",
              "3                         0.5            64.83                    0.511   \n",
              "4                         0.5            64.83                    0.511   \n",
              "\n",
              "   excess_mortality_cumulative_absolute  excess_mortality_cumulative  \\\n",
              "0                                   NaN                          NaN   \n",
              "1                                   NaN                          NaN   \n",
              "2                                   NaN                          NaN   \n",
              "3                                   NaN                          NaN   \n",
              "4                                   NaN                          NaN   \n",
              "\n",
              "   excess_mortality  excess_mortality_cumulative_per_million  \n",
              "0               NaN                                      NaN  \n",
              "1               NaN                                      NaN  \n",
              "2               NaN                                      NaN  \n",
              "3               NaN                                      NaN  \n",
              "4               NaN                                      NaN  \n",
              "\n",
              "[5 rows x 67 columns]"
            ]
          },
          "execution_count": 2,
          "metadata": {},
          "output_type": "execute_result"
        }
      ],
      "source": [
        "#cargamos los datos\n",
        "data = pd.read_csv(r\"C:\\Users\\ggira\\OneDrive\\02 - Cursos\\01 - Data Science - Acamica\\00 - Sprint projects\\04 - Informe pandemico\\owid-covid-data.csv\")\n",
        "data.head()\n"
      ]
    },
    {
      "cell_type": "code",
      "execution_count": 3,
      "metadata": {},
      "outputs": [
        {
          "name": "stdout",
          "output_type": "stream",
          "text": [
            "<class 'pandas.core.frame.DataFrame'>\n",
            "RangeIndex: 138046 entries, 0 to 138045\n",
            "Data columns (total 67 columns):\n",
            " #   Column                                      Non-Null Count   Dtype  \n",
            "---  ------                                      --------------   -----  \n",
            " 0   iso_code                                    138046 non-null  object \n",
            " 1   continent                                   129260 non-null  object \n",
            " 2   location                                    138046 non-null  object \n",
            " 3   date                                        138046 non-null  object \n",
            " 4   total_cases                                 130378 non-null  float64\n",
            " 5   new_cases                                   130373 non-null  float64\n",
            " 6   new_cases_smoothed                          129333 non-null  float64\n",
            " 7   total_deaths                                119069 non-null  float64\n",
            " 8   new_deaths                                  119265 non-null  float64\n",
            " 9   new_deaths_smoothed                         129333 non-null  float64\n",
            " 10  total_cases_per_million                     129710 non-null  float64\n",
            " 11  new_cases_per_million                       129705 non-null  float64\n",
            " 12  new_cases_smoothed_per_million              128670 non-null  float64\n",
            " 13  total_deaths_per_million                    118414 non-null  float64\n",
            " 14  new_deaths_per_million                      118610 non-null  float64\n",
            " 15  new_deaths_smoothed_per_million             128670 non-null  float64\n",
            " 16  reproduction_rate                           108865 non-null  float64\n",
            " 17  icu_patients                                16928 non-null   float64\n",
            " 18  icu_patients_per_million                    16928 non-null   float64\n",
            " 19  hosp_patients                               19346 non-null   float64\n",
            " 20  hosp_patients_per_million                   19346 non-null   float64\n",
            " 21  weekly_icu_admissions                       1319 non-null    float64\n",
            " 22  weekly_icu_admissions_per_million           1319 non-null    float64\n",
            " 23  weekly_hosp_admissions                      2203 non-null    float64\n",
            " 24  weekly_hosp_admissions_per_million          2203 non-null    float64\n",
            " 25  new_tests                                   57273 non-null   float64\n",
            " 26  total_tests                                 57565 non-null   float64\n",
            " 27  total_tests_per_thousand                    57565 non-null   float64\n",
            " 28  new_tests_per_thousand                      57273 non-null   float64\n",
            " 29  new_tests_smoothed                          69703 non-null   float64\n",
            " 30  new_tests_smoothed_per_thousand             69703 non-null   float64\n",
            " 31  positive_rate                               65091 non-null   float64\n",
            " 32  tests_per_case                              64430 non-null   float64\n",
            " 33  tests_units                                 71776 non-null   object \n",
            " 34  total_vaccinations                          36070 non-null   float64\n",
            " 35  people_vaccinated                           34466 non-null   float64\n",
            " 36  people_fully_vaccinated                     31497 non-null   float64\n",
            " 37  total_boosters                              8777 non-null    float64\n",
            " 38  new_vaccinations                            30050 non-null   float64\n",
            " 39  new_vaccinations_smoothed                   64304 non-null   float64\n",
            " 40  total_vaccinations_per_hundred              36070 non-null   float64\n",
            " 41  people_vaccinated_per_hundred               34466 non-null   float64\n",
            " 42  people_fully_vaccinated_per_hundred         31497 non-null   float64\n",
            " 43  total_boosters_per_hundred                  8777 non-null    float64\n",
            " 44  new_vaccinations_smoothed_per_million       64304 non-null   float64\n",
            " 45  new_people_vaccinated_smoothed              63137 non-null   float64\n",
            " 46  new_people_vaccinated_smoothed_per_hundred  63137 non-null   float64\n",
            " 47  stringency_index                            112126 non-null  float64\n",
            " 48  population                                  137061 non-null  float64\n",
            " 49  population_density                          124949 non-null  float64\n",
            " 50  median_age                                  118994 non-null  float64\n",
            " 51  aged_65_older                               117680 non-null  float64\n",
            " 52  aged_70_older                               118345 non-null  float64\n",
            " 53  gdp_per_capita                              119773 non-null  float64\n",
            " 54  extreme_poverty                             80024 non-null   float64\n",
            " 55  cardiovasc_death_rate                       119189 non-null  float64\n",
            " 56  diabetes_prevalence                         123189 non-null  float64\n",
            " 57  female_smokers                              92836 non-null   float64\n",
            " 58  male_smokers                                91496 non-null   float64\n",
            " 59  handwashing_facilities                      59993 non-null   float64\n",
            " 60  hospital_beds_per_thousand                  108291 non-null  float64\n",
            " 61  life_expectancy                             128343 non-null  float64\n",
            " 62  human_development_index                     119310 non-null  float64\n",
            " 63  excess_mortality_cumulative_absolute        4853 non-null    float64\n",
            " 64  excess_mortality_cumulative                 4853 non-null    float64\n",
            " 65  excess_mortality                            4853 non-null    float64\n",
            " 66  excess_mortality_cumulative_per_million     4853 non-null    float64\n",
            "dtypes: float64(62), object(5)\n",
            "memory usage: 70.6+ MB\n"
          ]
        }
      ],
      "source": [
        "data.info()"
      ]
    },
    {
      "cell_type": "markdown",
      "metadata": {},
      "source": [
        "*Comentario:*\n",
        "El dataset brinda toda la información discretizada por cada país sobre la pandemia. Los atributos más importantes son la cantidad de casos diarios, la cantidad de muertes diarias y totales y todo ajustado a cantidad de personas. "
      ]
    },
    {
      "cell_type": "code",
      "execution_count": 4,
      "metadata": {},
      "outputs": [
        {
          "name": "stdout",
          "output_type": "stream",
          "text": [
            "['Afghanistan' 'Africa' 'Albania' 'Algeria' 'Andorra' 'Angola' 'Anguilla'\n",
            " 'Antigua and Barbuda' 'Argentina' 'Armenia' 'Aruba' 'Asia' 'Australia'\n",
            " 'Austria' 'Azerbaijan' 'Bahamas' 'Bahrain' 'Bangladesh' 'Barbados'\n",
            " 'Belarus' 'Belgium' 'Belize' 'Benin' 'Bermuda' 'Bhutan' 'Bolivia'\n",
            " 'Bonaire Sint Eustatius and Saba' 'Bosnia and Herzegovina' 'Botswana'\n",
            " 'Brazil' 'British Virgin Islands' 'Brunei' 'Bulgaria' 'Burkina Faso'\n",
            " 'Burundi' 'Cambodia' 'Cameroon' 'Canada' 'Cape Verde' 'Cayman Islands'\n",
            " 'Central African Republic' 'Chad' 'Chile' 'China' 'Colombia' 'Comoros'\n",
            " 'Congo' 'Cook Islands' 'Costa Rica' \"Cote d'Ivoire\" 'Croatia' 'Cuba'\n",
            " 'Curacao' 'Cyprus' 'Czechia' 'Democratic Republic of Congo' 'Denmark'\n",
            " 'Djibouti' 'Dominica' 'Dominican Republic' 'Ecuador' 'Egypt'\n",
            " 'El Salvador' 'Equatorial Guinea' 'Eritrea' 'Estonia' 'Eswatini'\n",
            " 'Ethiopia' 'Europe' 'European Union' 'Faeroe Islands' 'Falkland Islands'\n",
            " 'Fiji' 'Finland' 'France' 'French Polynesia' 'Gabon' 'Gambia' 'Georgia'\n",
            " 'Germany' 'Ghana' 'Gibraltar' 'Greece' 'Greenland' 'Grenada' 'Guatemala'\n",
            " 'Guernsey' 'Guinea' 'Guinea-Bissau' 'Guyana' 'Haiti' 'High income'\n",
            " 'Honduras' 'Hong Kong' 'Hungary' 'Iceland' 'India' 'Indonesia'\n",
            " 'International' 'Iran' 'Iraq' 'Ireland' 'Isle of Man' 'Israel' 'Italy'\n",
            " 'Jamaica' 'Japan' 'Jersey' 'Jordan' 'Kazakhstan' 'Kenya' 'Kiribati'\n",
            " 'Kosovo' 'Kuwait' 'Kyrgyzstan' 'Laos' 'Latvia' 'Lebanon' 'Lesotho'\n",
            " 'Liberia' 'Libya' 'Liechtenstein' 'Lithuania' 'Low income'\n",
            " 'Lower middle income' 'Luxembourg' 'Macao' 'Madagascar' 'Malawi'\n",
            " 'Malaysia' 'Maldives' 'Mali' 'Malta' 'Marshall Islands' 'Mauritania'\n",
            " 'Mauritius' 'Mexico' 'Micronesia (country)' 'Moldova' 'Monaco' 'Mongolia'\n",
            " 'Montenegro' 'Montserrat' 'Morocco' 'Mozambique' 'Myanmar' 'Namibia'\n",
            " 'Nauru' 'Nepal' 'Netherlands' 'New Caledonia' 'New Zealand' 'Nicaragua'\n",
            " 'Niger' 'Nigeria' 'Niue' 'North America' 'North Macedonia'\n",
            " 'Northern Cyprus' 'Norway' 'Oceania' 'Oman' 'Pakistan' 'Palau'\n",
            " 'Palestine' 'Panama' 'Papua New Guinea' 'Paraguay' 'Peru' 'Philippines'\n",
            " 'Pitcairn' 'Poland' 'Portugal' 'Qatar' 'Romania' 'Russia' 'Rwanda'\n",
            " 'Saint Helena' 'Saint Kitts and Nevis' 'Saint Lucia'\n",
            " 'Saint Vincent and the Grenadines' 'Samoa' 'San Marino'\n",
            " 'Sao Tome and Principe' 'Saudi Arabia' 'Senegal' 'Serbia' 'Seychelles'\n",
            " 'Sierra Leone' 'Singapore' 'Sint Maarten (Dutch part)' 'Slovakia'\n",
            " 'Slovenia' 'Solomon Islands' 'Somalia' 'South Africa' 'South America'\n",
            " 'South Korea' 'South Sudan' 'Spain' 'Sri Lanka' 'Sudan' 'Suriname'\n",
            " 'Sweden' 'Switzerland' 'Syria' 'Taiwan' 'Tajikistan' 'Tanzania'\n",
            " 'Thailand' 'Timor' 'Togo' 'Tokelau' 'Tonga' 'Trinidad and Tobago'\n",
            " 'Tunisia' 'Turkey' 'Turkmenistan' 'Turks and Caicos Islands' 'Tuvalu'\n",
            " 'Uganda' 'Ukraine' 'United Arab Emirates' 'United Kingdom'\n",
            " 'United States' 'Upper middle income' 'Uruguay' 'Uzbekistan' 'Vanuatu'\n",
            " 'Vatican' 'Venezuela' 'Vietnam' 'Wallis and Futuna' 'World' 'Yemen'\n",
            " 'Zambia' 'Zimbabwe']\n"
          ]
        }
      ],
      "source": [
        "print(data['location'].unique())"
      ]
    },
    {
      "cell_type": "code",
      "execution_count": 5,
      "metadata": {
        "colab": {
          "base_uri": "https://localhost:8080/",
          "height": 424
        },
        "id": "xvuX_32HXxK0",
        "outputId": "39742517-30e2-4d78-cba0-78a57ca57a07"
      },
      "outputs": [],
      "source": [
        "df=data"
      ]
    },
    {
      "cell_type": "code",
      "execution_count": 6,
      "metadata": {
        "id": "avKRmQzGYiMV"
      },
      "outputs": [],
      "source": [
        "paises=data['location'] #cargo el vector de paises\n",
        "confirmados=data['total_cases'] #carga vector todos los casos confirmados"
      ]
    },
    {
      "cell_type": "code",
      "execution_count": 7,
      "metadata": {
        "colab": {
          "base_uri": "https://localhost:8080/",
          "height": 308
        },
        "id": "GZt3IeBaa8pz",
        "outputId": "e53e9d96-639f-4c5f-cb89-9c05d6c5ea63"
      },
      "outputs": [
        {
          "data": {
            "text/plain": [
              "Text(0, 0.5, 'Cantidad de casos')"
            ]
          },
          "execution_count": 7,
          "metadata": {},
          "output_type": "execute_result"
        },
        {
          "data": {
            "image/png": "[encoded data removed]",
            "text/plain": [
              "<Figure size 432x288 with 1 Axes>"
            ]
          },
          "metadata": {
            "needs_background": "light"
          },
          "output_type": "display_data"
        }
      ],
      "source": [
        "#seleccionamos Argentina\n",
        "\n",
        "ind_arg=np.where(paises=='Argentina')\n",
        "ind_arg=ind_arg[0]\n",
        "casos_arg=confirmados[ind_arg]\n",
        "dias=np.arange(0,len(casos_arg))\n",
        "plt.plot(dias,casos_arg)\n",
        "plt.xlabel('Dias')\n",
        "plt.ylabel('Cantidad de casos')"
      ]
    },
    {
      "cell_type": "markdown",
      "metadata": {
        "id": "Hz1nUBfxcxOP"
      },
      "source": [
        "Esta es la curva de **casos totales** de la Argentina. Aquí no se ven las olas, ya que estas se ven en la curva de casos confirmados por día, es decir, de casos nuevos. Esta habla de los acumulados, entonces siempre se agregan.\n",
        "\n",
        "Para ver mejor la curva, podemos tomar el logartimo de los datos. Una curva exponencial se ve lineal en escala logarítmica\n"
      ]
    },
    {
      "cell_type": "code",
      "execution_count": 8,
      "metadata": {
        "colab": {
          "base_uri": "https://localhost:8080/",
          "height": 297
        },
        "id": "F1oMHfLlbpld",
        "outputId": "10131ce1-5737-4690-db36-b26756d0776a"
      },
      "outputs": [
        {
          "data": {
            "text/plain": [
              "Text(0, 0.5, 'log cantidad de casos')"
            ]
          },
          "execution_count": 8,
          "metadata": {},
          "output_type": "execute_result"
        },
        {
          "data": {
            "image/png": "[encoded data removed]",
            "text/plain": [
              "<Figure size 432x288 with 1 Axes>"
            ]
          },
          "metadata": {
            "needs_background": "light"
          },
          "output_type": "display_data"
        }
      ],
      "source": [
        "plt.plot(dias,np.log(casos_arg))\n",
        "plt.xlabel('Dias')\n",
        "plt.ylabel('log cantidad de casos')"
      ]
    },
    {
      "cell_type": "markdown",
      "metadata": {
        "id": "GQjQUh9QeKZl"
      },
      "source": [
        "Veamos lo que pasa entre los 2 y 3 meses desde que se detectó el primer caso en Argentina, para ver cómo fue el $k$ inicial"
      ]
    },
    {
      "cell_type": "code",
      "execution_count": 9,
      "metadata": {
        "colab": {
          "base_uri": "https://localhost:8080/",
          "height": 297
        },
        "id": "p0MBIAOldeSs",
        "outputId": "6a196767-3eee-4ddc-9e22-f5487b599843"
      },
      "outputs": [
        {
          "data": {
            "text/plain": [
              "Text(0, 0.5, 'Cantidad de casos')"
            ]
          },
          "execution_count": 9,
          "metadata": {},
          "output_type": "execute_result"
        },
        {
          "data": {
            "image/png": "[encoded data removed]",
            "text/plain": [
              "<Figure size 432x288 with 1 Axes>"
            ]
          },
          "metadata": {
            "needs_background": "light"
          },
          "output_type": "display_data"
        }
      ],
      "source": [
        "casos_principio=casos_arg[120:180]\n",
        "dias_principio=dias[120:180]\n",
        "\n",
        "plt.plot(dias_principio,casos_principio)\n",
        "plt.xlabel('Dias')\n",
        "plt.ylabel('Cantidad de casos')"
      ]
    },
    {
      "cell_type": "markdown",
      "metadata": {
        "id": "u2b-yQziemV1"
      },
      "source": [
        "Es difícil determinar si esta parte es exponencial. Analicemos qué pasa en escala logarítmica."
      ]
    },
    {
      "cell_type": "code",
      "execution_count": 10,
      "metadata": {
        "colab": {
          "base_uri": "https://localhost:8080/",
          "height": 297
        },
        "id": "ibBhO71Vehld",
        "outputId": "bd35de8b-b7de-4c35-c4e6-f8a408ece3b7"
      },
      "outputs": [
        {
          "data": {
            "text/plain": [
              "Text(0, 0.5, 'log cantidad de casos')"
            ]
          },
          "execution_count": 10,
          "metadata": {},
          "output_type": "execute_result"
        },
        {
          "data": {
            "image/png": "[encoded data removed]",
            "text/plain": [
              "<Figure size 432x288 with 1 Axes>"
            ]
          },
          "metadata": {
            "needs_background": "light"
          },
          "output_type": "display_data"
        }
      ],
      "source": [
        "plt.plot(dias_principio,np.log(casos_principio))\n",
        "plt.xlabel('Dias')\n",
        "plt.ylabel('log cantidad de casos')"
      ]
    },
    {
      "cell_type": "markdown",
      "metadata": {
        "id": "CV3RQ4L1f95c"
      },
      "source": [
        "¡Se ve bastante lineal! Aprovechemos esto para averiguar el $k$ utilizando un ajuste hecho con el método de cuadrados mínimos, ajustando los datos al modelo \n",
        "\n",
        "$Confirmados=e^{k(t-t_0)}$\n",
        "\n"
      ]
    },
    {
      "cell_type": "code",
      "execution_count": 11,
      "metadata": {
        "id": "L4b5BB9lfyTQ"
      },
      "outputs": [],
      "source": [
        "#definimos función para ajustar modelo\n",
        "def exponencial(t,k,t0):\n",
        "  C=np.exp(k*(t-t0))\n",
        "  return C"
      ]
    },
    {
      "cell_type": "code",
      "execution_count": 12,
      "metadata": {
        "colab": {
          "base_uri": "https://localhost:8080/"
        },
        "id": "qJF6X5lHh6_K",
        "outputId": "edbc55cb-a496-4006-c533-bc325d67cbc9"
      },
      "outputs": [
        {
          "data": {
            "text/plain": [
              "array([ 4.62592629e-02, -5.88352945e+01])"
            ]
          },
          "execution_count": 12,
          "metadata": {},
          "output_type": "execute_result"
        }
      ],
      "source": [
        "#ajustamos\n",
        "popt, pcov = curve_fit(exponencial, dias_principio, casos_principio)\n",
        "popt"
      ]
    },
    {
      "cell_type": "markdown",
      "metadata": {
        "id": "Or4MYGHtiZzR"
      },
      "source": [
        "Veamos cómo se ajusta lo que obtuvimos a los datos reales"
      ]
    },
    {
      "cell_type": "code",
      "execution_count": 13,
      "metadata": {
        "colab": {
          "base_uri": "https://localhost:8080/",
          "height": 283
        },
        "id": "wzBgxnf4iQqq",
        "outputId": "06821748-c800-4f0c-c3b0-76000cc28f2e"
      },
      "outputs": [
        {
          "name": "stderr",
          "output_type": "stream",
          "text": [
            "No handles with labels found to put in legend.\n"
          ]
        },
        {
          "data": {
            "image/png": "[encoded data removed]",
            "text/plain": [
              "<Figure size 432x288 with 1 Axes>"
            ]
          },
          "metadata": {
            "needs_background": "light"
          },
          "output_type": "display_data"
        }
      ],
      "source": [
        "k=popt[0]\n",
        "t0=popt[1]\n",
        "casos_simu=exponencial(dias_principio,k,t0)\n",
        "plt.plot(dias_principio,casos_principio,'.')\n",
        "plt.plot(dias_principio,casos_simu)\n",
        "plt.xlabel('Dias')\n",
        "plt.ylabel('Cantidad de casos totales')\n",
        "plt.title('Comparacion entre ajuste exponencial y casos reales en Argentina')  \n",
        "plt.legend()\n",
        "plt.show()"
      ]
    },
    {
      "cell_type": "markdown",
      "metadata": {
        "id": "zt24DRvS2fg2"
      },
      "source": [
        "Hagamos una función que determine los casos nuevos por día a partir de estas curvas. Puede ser útil para tu análisis."
      ]
    },
    {
      "cell_type": "code",
      "execution_count": 14,
      "metadata": {
        "id": "losUiyh6iw-N"
      },
      "outputs": [],
      "source": [
        "def casos_nuevos(casos):\n",
        "  nuevos=np.zeros(len(casos))\n",
        "  i=0\n",
        "  while i<len(nuevos)-1:\n",
        "    nuevos[i]=casos[i+1]-casos[i]\n",
        "    i=i+1\n",
        "\n",
        "  return nuevos   "
      ]
    },
    {
      "cell_type": "code",
      "execution_count": 15,
      "metadata": {
        "colab": {
          "base_uri": "https://localhost:8080/",
          "height": 283
        },
        "id": "9a7ZdG652-uC",
        "outputId": "9fde423a-5c04-4197-a596-0808954f12f6"
      },
      "outputs": [
        {
          "name": "stderr",
          "output_type": "stream",
          "text": [
            "No handles with labels found to put in legend.\n"
          ]
        },
        {
          "data": {
            "image/png": "[encoded data removed]",
            "text/plain": [
              "<Figure size 432x288 with 1 Axes>"
            ]
          },
          "metadata": {
            "needs_background": "light"
          },
          "output_type": "display_data"
        }
      ],
      "source": [
        "casos_arg=np.array(casos_arg)\n",
        "nuevos_arg=casos_nuevos(casos_arg)\n",
        "plt.plot(nuevos_arg)\n",
        "plt.xlabel('Dias')\n",
        "plt.ylabel('Cantidad de casos diarios')\n",
        "plt.title('Casos diarios en Argentina')  \n",
        "plt.legend()\n",
        "plt.show()"
      ]
    },
    {
      "cell_type": "markdown",
      "metadata": {},
      "source": [
        "## Obtención  de distintos valores de ajuste k"
      ]
    },
    {
      "cell_type": "code",
      "execution_count": 16,
      "metadata": {},
      "outputs": [
        {
          "name": "stdout",
          "output_type": "stream",
          "text": [
            "El valor de k es: 0.010804975046555036\n"
          ]
        },
        {
          "data": {
            "text/plain": [
              "<matplotlib.legend.Legend at 0x1e300366e20>"
            ]
          },
          "execution_count": 16,
          "metadata": {},
          "output_type": "execute_result"
        },
        {
          "data": {
            "image/png": "[encoded data removed]",
            "text/plain": [
              "<Figure size 432x288 with 1 Axes>"
            ]
          },
          "metadata": {
            "needs_background": "light"
          },
          "output_type": "display_data"
        }
      ],
      "source": [
        "# Calculo de k para China\n",
        "\n",
        "del df\n",
        "df=data\n",
        "mask = data.location=='China'\n",
        "df = data[mask]\n",
        "\n",
        "casos=np.array(df['total_cases'])\n",
        "casos = casos[np.logical_not(np.isnan(casos))]\n",
        "\n",
        "dias=np.arange(0,len(casos))\n",
        "\n",
        "casos_principio=casos[0:90]\n",
        "dias_principio=dias[0:90]\n",
        "\n",
        "popt, pcov = curve_fit(exponencial, dias_principio, casos_principio, maxfev=4000)\n",
        "k=popt[0]\n",
        "t0=popt[1]\n",
        "\n",
        "print(\"El valor de k es:\",k)\n",
        "\n",
        "# Graficamos para todo el mundo entre los 4 y 6 meses de comenzada la pandemia\n",
        "mask = data.location==\"World\"\n",
        "df_w = data[mask]\n",
        "df_w.head(10)\n",
        "\n",
        "casos_w=np.array(df_w['total_cases'])\n",
        "casos_w = casos_w[np.logical_not(np.isnan(casos_w))]\n",
        "dias_w=np.arange(0,len(casos))\n",
        "\n",
        "casos_principio_w=casos_w[0:90]\n",
        "dias_principio_w=dias_w[0:90]\n",
        "\n",
        "casos_simu_w=exponencial(dias_principio_w,k,t0)\n",
        "plt.plot(dias_principio_w,casos_principio_w,'.', label = 'Casos en el mundo reales')\n",
        "plt.plot(dias_principio_w,casos_simu_w, label = 'Casos en el mundo simulados segun China')\n",
        "plt.xlabel('Dias')\n",
        "plt.ylabel('Cantidad de casos totales')\n",
        "plt.title('Comparacion ajuste-realidad en el mundo') \n",
        "plt.legend()"
      ]
    },
    {
      "cell_type": "markdown",
      "metadata": {},
      "source": [
        "*Conclusión N1:* Podemos observar una similitud en las curvas al principio (esto es esperable ya que en China es donde comenzó la pandemia) pero luego una gran divergencia de ambas curvas ya que China al muy poco tiempo dejo de ser el foco en la pandemia."
      ]
    },
    {
      "cell_type": "code",
      "execution_count": 17,
      "metadata": {},
      "outputs": [
        {
          "name": "stdout",
          "output_type": "stream",
          "text": [
            "El valor de k es: 0.057443151017651975\n"
          ]
        },
        {
          "data": {
            "text/plain": [
              "<matplotlib.legend.Legend at 0x1e300366250>"
            ]
          },
          "execution_count": 17,
          "metadata": {},
          "output_type": "execute_result"
        },
        {
          "data": {
            "image/png": "[encoded data removed]",
            "text/plain": [
              "<Figure size 432x288 with 1 Axes>"
            ]
          },
          "metadata": {
            "needs_background": "light"
          },
          "output_type": "display_data"
        }
      ],
      "source": [
        "# Calculo de k Europa\n",
        "\n",
        "del df\n",
        "df=data\n",
        "mask = data.location=='Europe'\n",
        "df = data[mask]\n",
        "\n",
        "casos=np.array(df['total_cases'])\n",
        "casos = casos[np.logical_not(np.isnan(casos))]\n",
        "\n",
        "dias=np.arange(0,len(casos))\n",
        "\n",
        "casos_principio=casos[0:90]\n",
        "dias_principio=dias[0:90]\n",
        "\n",
        "popt, pcov = curve_fit(exponencial, dias_principio, casos_principio, maxfev=4000)\n",
        "k=popt[0]\n",
        "t0=popt[1]\n",
        "\n",
        "print(\"El valor de k es:\",k)\n",
        "\n",
        "# Graficamos para todo el mundo entre los 4 y 6 meses de comenzada la pandemia\n",
        "mask = data.location==\"World\"\n",
        "df_w = data[mask]\n",
        "df_w.head(10)\n",
        "\n",
        "casos_w=np.array(df_w['total_cases'])\n",
        "casos_w = casos_w[np.logical_not(np.isnan(casos_w))]\n",
        "dias_w=np.arange(0,len(casos))\n",
        "\n",
        "casos_principio_w=casos_w[0:90]\n",
        "dias_principio_w=dias_w[0:90]\n",
        "\n",
        "casos_simu_w=exponencial(dias_principio_w,k,t0)\n",
        "\n",
        "plt.plot(dias_principio_w,casos_principio_w,'.', label = 'Casos en el mundo reales')\n",
        "plt.plot(dias_principio_w,casos_simu_w, label = 'Casos en el mundo simulados segun Europa')\n",
        "plt.xlabel('Dias')\n",
        "plt.ylabel('Cantidad de casos totales')\n",
        "plt.title('Comparacion ajuste-realidad en el mundo') \n",
        "plt.legend()"
      ]
    },
    {
      "cell_type": "markdown",
      "metadata": {},
      "source": [
        "*Conclusión N2:* Siguiendo con la línea temporal de la pandemia, el foco se trasladó desde China a Europa (siendo Italia uno de los más afectados) por lo que vemos como la tendencia exponencial se corresponde a ambas curvas."
      ]
    },
    {
      "cell_type": "code",
      "execution_count": 18,
      "metadata": {},
      "outputs": [
        {
          "name": "stdout",
          "output_type": "stream",
          "text": [
            "El valor medio de k es: 0.05231976304073574\n"
          ]
        },
        {
          "data": {
            "image/png": "[encoded data removed]",
            "text/plain": [
              "<Figure size 432x288 with 1 Axes>"
            ]
          },
          "metadata": {
            "needs_background": "light"
          },
          "output_type": "display_data"
        },
        {
          "data": {
            "text/plain": [
              "<matplotlib.legend.Legend at 0x1e3005da9a0>"
            ]
          },
          "execution_count": 18,
          "metadata": {},
          "output_type": "execute_result"
        },
        {
          "data": {
            "image/png": "[encoded data removed]",
            "text/plain": [
              "<Figure size 432x288 with 1 Axes>"
            ]
          },
          "metadata": {
            "needs_background": "light"
          },
          "output_type": "display_data"
        }
      ],
      "source": [
        "# Calculo de k para varios paises\n",
        "\n",
        "lista_paises = ['China','Argentina','Italy','Spain','India','Brazil','United States','Nigeria']\n",
        "k_l=[]\n",
        "t0_l=[]\n",
        "\n",
        "for pais in lista_paises:\n",
        "   \n",
        "    del df\n",
        "    df=data\n",
        "    mask = data.location==pais\n",
        "    df = data[mask]\n",
        "\n",
        "    casos=np.array(df['total_cases'])\n",
        "    casos = casos[np.logical_not(np.isnan(casos))]\n",
        "\n",
        "    dias=np.arange(0,len(casos))\n",
        "    \n",
        "    casos_principio=casos[0:90]\n",
        "    dias_principio=dias[0:90]\n",
        "    \n",
        "    popt, pcov = curve_fit(exponencial, dias_principio, casos_principio, maxfev=4000)\n",
        "    k_l.append(popt[0])\n",
        "    t0_l.append(popt[1])\n",
        "\n",
        "k=mean(k_l)\n",
        "t0=mean(t0_l)\n",
        "print(\"El valor medio de k es:\",k)\n",
        "\n",
        "# Graficamos para todo el mundo entre los 4 y 6 meses de comenzada la pandemia\n",
        "mask = data.location==\"World\"\n",
        "df_w = data[mask]\n",
        "df_w.head(10)\n",
        "\n",
        "casos_w=np.array(df_w['total_cases'])\n",
        "casos_w = casos_w[np.logical_not(np.isnan(casos_w))]\n",
        "dias_w=np.arange(0,len(casos))\n",
        "\n",
        "casos_principio_w=casos_w[0:90]\n",
        "dias_principio_w=dias_w[0:90]\n",
        "\n",
        "casos_simu_w=exponencial(dias_principio_w,k,t0)\n",
        "plt.plot(dias_principio_w,casos_principio_w,'.', label = 'Casos en el mundo reales')\n",
        "plt.plot(dias_principio_w,casos_simu_w, label = 'Casos en el mundo simulados')\n",
        "plt.xlabel('Dias')\n",
        "plt.ylabel('Cantidad de casos totales')\n",
        "plt.title('Comparacion ajuste-realidad en el mundo') \n",
        "plt.legend()\n",
        "plt.show()\n",
        "\n",
        "plt.plot(dias_principio_w,casos_principio_w,'.', label = 'Casos en el mundo reales')\n",
        "plt.xlabel('Dias')\n",
        "plt.ylabel('Cantidad de casos totales')\n",
        "plt.title('Casos totales en el mundo')\n",
        "plt.legend()"
      ]
    },
    {
      "cell_type": "markdown",
      "metadata": {},
      "source": [
        "*Conclusión N3:* Tomando los países de todo el mundo donde es sabido que los casos crecieron ampliamente (no Argentina de todas formas) en los primeros meses, generamos una función predictora que a los 2 meses podemos ver la tendencia exponencial correspondiente al aumento abrupto de los casos en casi todo el mundo. Sin embargo, habiendo sido ajustada para los países donde más aumentaron los casos (Italia, España, EEUU y Brasil) sobrestima la cantidad real de casos en todo el mundo. \n",
        "\n",
        "La **selección de los países** está hecha en base a cuales fueron los países donde más se extendió el virus en los primeros meses. "
      ]
    },
    {
      "cell_type": "code",
      "execution_count": 19,
      "metadata": {},
      "outputs": [
        {
          "name": "stdout",
          "output_type": "stream",
          "text": [
            "El valor medio de k es: 0.0560686291562466\n"
          ]
        },
        {
          "data": {
            "image/png": "[encoded data removed]",
            "text/plain": [
              "<Figure size 432x288 with 1 Axes>"
            ]
          },
          "metadata": {
            "needs_background": "light"
          },
          "output_type": "display_data"
        },
        {
          "data": {
            "text/plain": [
              "<matplotlib.legend.Legend at 0x1e3006a33a0>"
            ]
          },
          "execution_count": 19,
          "metadata": {},
          "output_type": "execute_result"
        },
        {
          "data": {
            "image/png": "[encoded data removed]",
            "text/plain": [
              "<Figure size 432x288 with 1 Axes>"
            ]
          },
          "metadata": {
            "needs_background": "light"
          },
          "output_type": "display_data"
        }
      ],
      "source": [
        "# Calculo de k para varios continentes\n",
        "\n",
        "lista_paises = ['European Union','Asia','South America','North America']\n",
        "k_l=[]\n",
        "t0_l=[]\n",
        "\n",
        "for pais in lista_paises:\n",
        "   \n",
        "    del df\n",
        "    df=data\n",
        "    mask = data.location==pais\n",
        "    df = data[mask]\n",
        "\n",
        "    casos=np.array(df['total_cases'])\n",
        "    casos = casos[np.logical_not(np.isnan(casos))]\n",
        "\n",
        "    dias=np.arange(0,len(casos))\n",
        "    \n",
        "    casos_principio=casos[0:90]\n",
        "    dias_principio=dias[0:90]\n",
        "    \n",
        "    popt, pcov = curve_fit(exponencial, dias_principio, casos_principio, maxfev=4000)\n",
        "    k_l.append(popt[0])\n",
        "    t0_l.append(popt[1])\n",
        "\n",
        "k=mean(k_l)\n",
        "t0=mean(t0_l)\n",
        "print(\"El valor medio de k es:\",k)\n",
        "\n",
        "# Graficamos para todo el mundo entre los 4 y 6 meses de comenzada la pandemia\n",
        "mask = data.location==\"World\"\n",
        "df_w = data[mask]\n",
        "df_w.head(10)\n",
        "\n",
        "casos_w=np.array(df_w['total_cases'])\n",
        "casos_w = casos_w[np.logical_not(np.isnan(casos_w))]\n",
        "dias_w=np.arange(0,len(casos))\n",
        "\n",
        "casos_principio_w=casos_w[0:90]\n",
        "dias_principio_w=dias_w[0:90]\n",
        "\n",
        "casos_simu_w=exponencial(dias_principio_w,k,t0)\n",
        "plt.plot(dias_principio_w,casos_principio_w,'.', label = 'Casos en el mundo reales')\n",
        "plt.plot(dias_principio_w,casos_simu_w, label = 'Casos en el mundo simulados')\n",
        "plt.xlabel('Dias')\n",
        "plt.ylabel('Cantidad de casos totales')\n",
        "plt.title('Comparacion ajuste-realidad en el mundo') \n",
        "plt.legend()\n",
        "plt.show()\n",
        "\n",
        "plt.plot(dias_principio_w,casos_principio_w,'.', label = 'Casos en el mundo reales')\n",
        "plt.xlabel('Dias')\n",
        "plt.ylabel('Cantidad de casos totales')\n",
        "plt.title('Casos totales en el mundo')\n",
        "plt.legend()"
      ]
    },
    {
      "cell_type": "markdown",
      "metadata": {},
      "source": [
        "*Conclusión N4:* Tomando ya varios continentes que resultan en una aproximación más completa del mundo podemos. Sin embargo, en este caso se dé un sub-ajuste y se estiman menos casos de los que realmente hubo. Aun así, esta fue la mejor aproximación dado que es la que más países incorporo. "
      ]
    },
    {
      "cell_type": "markdown",
      "metadata": {},
      "source": [
        "## Intervalo de confianza de K\n",
        "Asumimos un $\\alpha$= 0.05 que implica que toleraremos hasta un 5% de error.\n",
        "Una vez establecido alpha, podemos armar el intervalo de confianza para saber con un 95% un intervalo donde se encuentra el promedio $\\mu$ de toda la población, usando una submuestra de esta. Para el caso de una gaussiana, se hace aplicando la fórmula.\n",
        "\n",
        "$\\mu_{poblacion}$ está en el intervalo $(\\mu_{datos}-z_{\\alpha} {{\\sigma}\\over{ \\sqrt{n}}},\\mu_{datos}+z_{\\alpha} {{\\sigma}\\over{ \\sqrt{n}}})$, donde $ n$ es el tamaño de la población y  $z_{\\alpha}$ es el \"valor crítico de la distribución\" y depende únicamente del **tipo** de distribución que tenemos y de $\\alpha$. Para distribuciones normales está tabulado, [acá](\n",
        "https://www.superprof.es/diccionario/matematicas/estadistica/valores-criticos.html) tienen algunos ejemplos. En este caso si $\\alpha=0.05$, corresponde $z_{aplha}=1.96$."
      ]
    },
    {
      "cell_type": "code",
      "execution_count": 20,
      "metadata": {},
      "outputs": [
        {
          "name": "stdout",
          "output_type": "stream",
          "text": [
            "La media de la muestra es: 0.0560686291562466\n",
            "\n",
            "\n",
            "El intervalo de confianza es: [0.04130622606943737, 0.07083103224305584]\n"
          ]
        },
        {
          "data": {
            "image/png": "[encoded data removed]",
            "text/plain": [
              "<Figure size 432x288 with 1 Axes>"
            ]
          },
          "metadata": {
            "needs_background": "light"
          },
          "output_type": "display_data"
        }
      ],
      "source": [
        "plt.hist(k_l)\n",
        "plt.xlabel('Continente')\n",
        "plt.ylabel('Valor de k')\n",
        "\n",
        "mu_muestra=np.mean(k_l)\n",
        "print(\"La media de la muestra es:\",mu_muestra)\n",
        "print(\"\\n\")\n",
        "sigma_muestra=np.std(k_l)\n",
        "z=1.96\n",
        "n=len(k_l)\n",
        "int_conf=[mu_muestra-z*sigma_muestra/np.sqrt(n),mu_muestra+z*sigma_muestra/np.sqrt(n)]\n",
        "print(\"El intervalo de confianza es:\",int_conf)"
      ]
    },
    {
      "cell_type": "markdown",
      "metadata": {},
      "source": [
        "*Conclusión Final:* Podemos observar que tomando países seleccionados con criterio no conseguimos una buen aproximación. Sin embargo, al tomar por continentes si, dado que la muestra es mucho mayor y la curva se ajusta mejor a los datos"
      ]
    },
    {
      "cell_type": "markdown",
      "metadata": {},
      "source": [
        "### Pregunta:"
      ]
    },
    {
      "cell_type": "markdown",
      "metadata": {},
      "source": [
        "¿Existe una correlacion entre el IDH y la cantidad de muertes por millon de habitantes?"
      ]
    },
    {
      "cell_type": "code",
      "execution_count": 21,
      "metadata": {},
      "outputs": [
        {
          "name": "stdout",
          "output_type": "stream",
          "text": [
            "0.3524494097979312\n"
          ]
        }
      ],
      "source": [
        "column_1 = data[\"human_development_index\"]\n",
        "column_2 = data[\"total_deaths_per_million\"]\n",
        "correlation = column_1.corr(column_2)\n",
        "print(correlation)"
      ]
    },
    {
      "cell_type": "markdown",
      "metadata": {},
      "source": [
        "**Conclusión:** La correlación es muy baja entre el IDH y el total de muertes por millón de habitantes. Esto se debe a que las regiones con IDH más bajo (África subsahariana) no se vieron muy afectados por pandemia debido a su desconexión con el mundo, Europa y EEUU por otro lado sufrieron muchas muertes y Brazil siendo un pais con IDH relativamente bajo tambien."
      ]
    },
    {
      "cell_type": "markdown",
      "metadata": {},
      "source": [
        "# 02 - Evaluando estrategias"
      ]
    },
    {
      "cell_type": "markdown",
      "metadata": {},
      "source": [
        "## Política  seleccionada e indicadores a estudiar\n",
        "\n",
        "Estudiaremos el efecto del cierre de fronteras de mas de 365 días, tomando distintos países como ejemplo. Y estudiaremos como esto influyo en:\n",
        "1. Las muertes totales por millón de habitantes\n",
        "2. Los casos totales por millón de habitantes\n",
        "3. La cantidad de pacientes totales hospitalizados\n",
        "\n",
        "Estos indicadores son útiles para medir el efecto de esta política dado que a los 365 días aproximadamente comenzaron las campañas de vacunación y no es un límite exacto como lo puede ser una implementación de una cuarentena."
      ]
    },
    {
      "cell_type": "markdown",
      "metadata": {},
      "source": [
        "## Paises seleccionados para el estudio\n",
        "\n",
        "1. Aplicaron cierre de fronteras completo de más de 365 días\n",
        "    1. Argentina ([Fuente](https://www.argentina.gob.ar/noticias/reapertura-de-fronteras-argentina-recibe-mas-de-200-vuelos-con-turistas-internacionales-en))\n",
        "    2. Australia ([Fuente](https://www.cnbc.com/2021/11/01/australia-reopens-its-borders-to-new-zealand-and-singapore.html))\n",
        "    3. India ([Fuente](https://edition.cnn.com/travel/article/india-tourism-reopening-intl-hnk/index.html))\n",
        "    4. Tailandia ([Fuente](https://www.bbc.com/news/business-59115395))\n",
        "    5. Irán ([Fuente](https://timesofindia.indiatimes.com/travel/travel-news/iran-reopens-its-border-for-international-tourism-after-nearly-two-years/as87287327.cms))\n",
        "\n",
        "\n",
        "2. No aplicaron cierre de fronteras completo de más de 365 días\n",
        "    1. Brazil ([Fuente](https://www.reuters.com/article/health-coronavirus-brazil-travel-idUSL2N2F036J))\n",
        "    2. Chile ([Fuente](https://chilereports.cl/en/news/2020/11/17/chile-opens-borders-to-foreigners-beginning-november-23))\n",
        "    3. Mexico ([Fuente](https://www.washingtonpost.com/travel/tips/mexico-travel-border-covid/))\n",
        "    4. Suecia ([Fuente](https://www.politico.eu/article/sweden-the-odd-one-out-as-nordics-finland-norway-denmark-turn-nationalist-coronavirus-covid/))\n",
        "    5. Egipto ([Fuente](https://www.dw.com/en/egypt-tries-to-restart-tourism-during-coronavirus-pandemic/a-53876823))\n"
      ]
    },
    {
      "cell_type": "markdown",
      "metadata": {},
      "source": [
        "## Medicion de los indicadores"
      ]
    },
    {
      "cell_type": "code",
      "execution_count": 22,
      "metadata": {},
      "outputs": [
        {
          "data": {
            "text/html": [
              "<div>\n",
              "<style scoped>\n",
              "    .dataframe tbody tr th:only-of-type {\n",
              "        vertical-align: middle;\n",
              "    }\n",
              "\n",
              "    .dataframe tbody tr th {\n",
              "        vertical-align: top;\n",
              "    }\n",
              "\n",
              "    .dataframe thead th {\n",
              "        text-align: right;\n",
              "    }\n",
              "</style>\n",
              "<table border=\"1\" class=\"dataframe\">\n",
              "  <thead>\n",
              "    <tr style=\"text-align: right;\">\n",
              "      <th></th>\n",
              "      <th>location</th>\n",
              "      <th>total_cases</th>\n",
              "      <th>new_cases</th>\n",
              "      <th>total_cases_per_million</th>\n",
              "      <th>total_deaths</th>\n",
              "      <th>new_deaths</th>\n",
              "      <th>total_deaths_per_million</th>\n",
              "      <th>hosp_patients_per_million</th>\n",
              "    </tr>\n",
              "  </thead>\n",
              "  <tbody>\n",
              "    <tr>\n",
              "      <th>4817</th>\n",
              "      <td>Argentina</td>\n",
              "      <td>NaN</td>\n",
              "      <td>NaN</td>\n",
              "      <td>NaN</td>\n",
              "      <td>NaN</td>\n",
              "      <td>NaN</td>\n",
              "      <td>NaN</td>\n",
              "      <td>NaN</td>\n",
              "    </tr>\n",
              "    <tr>\n",
              "      <th>4818</th>\n",
              "      <td>Argentina</td>\n",
              "      <td>NaN</td>\n",
              "      <td>NaN</td>\n",
              "      <td>NaN</td>\n",
              "      <td>NaN</td>\n",
              "      <td>NaN</td>\n",
              "      <td>NaN</td>\n",
              "      <td>NaN</td>\n",
              "    </tr>\n",
              "    <tr>\n",
              "      <th>4819</th>\n",
              "      <td>Argentina</td>\n",
              "      <td>NaN</td>\n",
              "      <td>NaN</td>\n",
              "      <td>NaN</td>\n",
              "      <td>NaN</td>\n",
              "      <td>NaN</td>\n",
              "      <td>NaN</td>\n",
              "      <td>NaN</td>\n",
              "    </tr>\n",
              "    <tr>\n",
              "      <th>4820</th>\n",
              "      <td>Argentina</td>\n",
              "      <td>NaN</td>\n",
              "      <td>NaN</td>\n",
              "      <td>NaN</td>\n",
              "      <td>NaN</td>\n",
              "      <td>NaN</td>\n",
              "      <td>NaN</td>\n",
              "      <td>NaN</td>\n",
              "    </tr>\n",
              "    <tr>\n",
              "      <th>4821</th>\n",
              "      <td>Argentina</td>\n",
              "      <td>NaN</td>\n",
              "      <td>NaN</td>\n",
              "      <td>NaN</td>\n",
              "      <td>NaN</td>\n",
              "      <td>NaN</td>\n",
              "      <td>NaN</td>\n",
              "      <td>NaN</td>\n",
              "    </tr>\n",
              "    <tr>\n",
              "      <th>...</th>\n",
              "      <td>...</td>\n",
              "      <td>...</td>\n",
              "      <td>...</td>\n",
              "      <td>...</td>\n",
              "      <td>...</td>\n",
              "      <td>...</td>\n",
              "      <td>...</td>\n",
              "      <td>...</td>\n",
              "    </tr>\n",
              "    <tr>\n",
              "      <th>4912</th>\n",
              "      <td>Argentina</td>\n",
              "      <td>1451.0</td>\n",
              "      <td>0.0</td>\n",
              "      <td>31.816</td>\n",
              "      <td>44.0</td>\n",
              "      <td>1.0</td>\n",
              "      <td>0.965</td>\n",
              "      <td>NaN</td>\n",
              "    </tr>\n",
              "    <tr>\n",
              "      <th>4913</th>\n",
              "      <td>Argentina</td>\n",
              "      <td>1554.0</td>\n",
              "      <td>103.0</td>\n",
              "      <td>34.075</td>\n",
              "      <td>48.0</td>\n",
              "      <td>4.0</td>\n",
              "      <td>1.052</td>\n",
              "      <td>NaN</td>\n",
              "    </tr>\n",
              "    <tr>\n",
              "      <th>4914</th>\n",
              "      <td>Argentina</td>\n",
              "      <td>1628.0</td>\n",
              "      <td>74.0</td>\n",
              "      <td>35.697</td>\n",
              "      <td>56.0</td>\n",
              "      <td>8.0</td>\n",
              "      <td>1.228</td>\n",
              "      <td>NaN</td>\n",
              "    </tr>\n",
              "    <tr>\n",
              "      <th>4915</th>\n",
              "      <td>Argentina</td>\n",
              "      <td>1715.0</td>\n",
              "      <td>87.0</td>\n",
              "      <td>37.605</td>\n",
              "      <td>63.0</td>\n",
              "      <td>7.0</td>\n",
              "      <td>1.381</td>\n",
              "      <td>NaN</td>\n",
              "    </tr>\n",
              "    <tr>\n",
              "      <th>4916</th>\n",
              "      <td>Argentina</td>\n",
              "      <td>1795.0</td>\n",
              "      <td>80.0</td>\n",
              "      <td>39.359</td>\n",
              "      <td>72.0</td>\n",
              "      <td>9.0</td>\n",
              "      <td>1.579</td>\n",
              "      <td>NaN</td>\n",
              "    </tr>\n",
              "  </tbody>\n",
              "</table>\n",
              "<p>100 rows × 8 columns</p>\n",
              "</div>"
            ],
            "text/plain": [
              "       location  total_cases  new_cases  total_cases_per_million  \\\n",
              "4817  Argentina          NaN        NaN                      NaN   \n",
              "4818  Argentina          NaN        NaN                      NaN   \n",
              "4819  Argentina          NaN        NaN                      NaN   \n",
              "4820  Argentina          NaN        NaN                      NaN   \n",
              "4821  Argentina          NaN        NaN                      NaN   \n",
              "...         ...          ...        ...                      ...   \n",
              "4912  Argentina       1451.0        0.0                   31.816   \n",
              "4913  Argentina       1554.0      103.0                   34.075   \n",
              "4914  Argentina       1628.0       74.0                   35.697   \n",
              "4915  Argentina       1715.0       87.0                   37.605   \n",
              "4916  Argentina       1795.0       80.0                   39.359   \n",
              "\n",
              "      total_deaths  new_deaths  total_deaths_per_million  \\\n",
              "4817           NaN         NaN                       NaN   \n",
              "4818           NaN         NaN                       NaN   \n",
              "4819           NaN         NaN                       NaN   \n",
              "4820           NaN         NaN                       NaN   \n",
              "4821           NaN         NaN                       NaN   \n",
              "...            ...         ...                       ...   \n",
              "4912          44.0         1.0                     0.965   \n",
              "4913          48.0         4.0                     1.052   \n",
              "4914          56.0         8.0                     1.228   \n",
              "4915          63.0         7.0                     1.381   \n",
              "4916          72.0         9.0                     1.579   \n",
              "\n",
              "      hosp_patients_per_million  \n",
              "4817                        NaN  \n",
              "4818                        NaN  \n",
              "4819                        NaN  \n",
              "4820                        NaN  \n",
              "4821                        NaN  \n",
              "...                         ...  \n",
              "4912                        NaN  \n",
              "4913                        NaN  \n",
              "4914                        NaN  \n",
              "4915                        NaN  \n",
              "4916                        NaN  \n",
              "\n",
              "[100 rows x 8 columns]"
            ]
          },
          "execution_count": 22,
          "metadata": {},
          "output_type": "execute_result"
        }
      ],
      "source": [
        "del df\n",
        "df = data.loc[(data['location'] == \"Argentina\" ) | (data['location'] == \"Australia\") | (data['location'] == \"India\") | (data['location'] == \"Thailand\") | (data['location'] == \"Iran\") | (data['location'] == \"Brazil\") | (data['location'] == \"Chile\") | (data['location'] == \"Mexico\") | (data['location'] == \"Sweden\") | (data['location'] == \"Egypt\")]\n",
        "df = df[['location','total_cases', 'new_cases','total_cases_per_million', 'total_deaths','new_deaths','total_deaths_per_million','hosp_patients_per_million']].copy()\n",
        "df.head(100)"
      ]
    },
    {
      "cell_type": "code",
      "execution_count": 23,
      "metadata": {},
      "outputs": [
        {
          "name": "stdout",
          "output_type": "stream",
          "text": [
            "['Argentina', 'Australia', 'India', 'Thailand', 'Iran', 'Brazil', 'Chile', 'Mexico', 'Sweden', 'Egypt']\n",
            "\n",
            "\n",
            "La cantidad de casos por millon de habitantes por cada pais es: \n",
            " [117105.134, 8496.943, 24861.014, 30667.836, 72145.766, 103475.559, 92260.754, 29949.305, 119303.743, 3483.29]\n",
            "\n",
            "\n",
            "La cantidad de muertes por millon de habitantes por cada pais es: \n",
            " [2557.7, 79.726, 339.841, 299.725, 1531.247, 2876.892, 2003.97, 2266.221, 1493.087, 198.804]\n",
            "\n",
            "\n",
            "La cantidad de hospitalizaciones por millon de habitantes por cada pais es: \n",
            " [nan, nan, nan, nan, nan, nan, nan, nan, 295.665, nan]\n"
          ]
        }
      ],
      "source": [
        "# Medicion de las metricas\n",
        "del lista_paises\n",
        "\n",
        "lista_paises = [\"Argentina\",\"Australia\",\"India\",\"Thailand\",\"Iran\",\"Brazil\",\"Chile\",\"Mexico\",\"Sweden\",\"Egypt\"]\n",
        "cerro_fronteras = [1,1,1,1,1,0,0,0,0,0]\n",
        "casos_millon= []\n",
        "muertes_millon= []\n",
        "hosp_millon= []\n",
        "\n",
        "for pais in lista_paises:\n",
        "   \n",
        "    df_aux=df\n",
        "    mask = df_aux.location==pais\n",
        "    df_aux = df[mask]\n",
        "\n",
        "    max_c = df_aux[\"total_cases_per_million\"].max()\n",
        "    max_d = df_aux[\"total_deaths_per_million\"].max()\n",
        "    max_h = df_aux[\"hosp_patients_per_million\"].max()\n",
        "    \n",
        "    casos_millon.append(max_c)\n",
        "    muertes_millon.append(max_d)\n",
        "    hosp_millon.append(max_h)\n",
        "\n",
        "    del df_aux\n",
        "\n",
        "print(lista_paises)\n",
        "print(\"\\n\")\n",
        "print(\"La cantidad de casos por millon de habitantes por cada pais es: \\n\",casos_millon)\n",
        "print(\"\\n\")\n",
        "print(\"La cantidad de muertes por millon de habitantes por cada pais es: \\n\",muertes_millon)\n",
        "print(\"\\n\")\n",
        "print(\"La cantidad de hospitalizaciones por millon de habitantes por cada pais es: \\n\",hosp_millon)"
      ]
    },
    {
      "cell_type": "markdown",
      "metadata": {},
      "source": [
        "**Comentario:** El unico pais que provee los datos de hospitalizacion por millon de habitantes es Suecia. Por lo que no va a servir como dato predictor. "
      ]
    },
    {
      "cell_type": "markdown",
      "metadata": {},
      "source": [
        "## Modelos de regresion logistica"
      ]
    },
    {
      "cell_type": "code",
      "execution_count": 24,
      "metadata": {},
      "outputs": [],
      "source": [
        "def sigmoidea(x,x0, k):\n",
        "    y = 1 / (1 + np.exp(-k*(x-x0)))\n",
        "    return (y)"
      ]
    },
    {
      "cell_type": "code",
      "execution_count": 25,
      "metadata": {},
      "outputs": [
        {
          "name": "stderr",
          "output_type": "stream",
          "text": [
            "<ipython-input-24-130839f5d03e>:2: RuntimeWarning: overflow encountered in exp\n",
            "  y = 1 / (1 + np.exp(-k*(x-x0)))\n"
          ]
        },
        {
          "data": {
            "text/plain": [
              "Text(0, 0.5, 'Cerro las fronteras')"
            ]
          },
          "execution_count": 25,
          "metadata": {},
          "output_type": "execute_result"
        },
        {
          "data": {
            "image/png": "[encoded data removed]",
            "text/plain": [
              "<Figure size 432x288 with 1 Axes>"
            ]
          },
          "metadata": {
            "needs_background": "light"
          },
          "output_type": "display_data"
        }
      ],
      "source": [
        "p0 = [np.median(casos_millon),1] # Punto de partida para los parámetros\n",
        "popt, pcov = curve_fit(sigmoidea, casos_millon, cerro_fronteras,p0, method='dogbox') # Fiteo\n",
        "\n",
        "x_plot=np.arange(min(casos_millon),max(casos_millon),0.1)\n",
        "cierre_fronteras_ajuste_1=sigmoidea(x_plot,popt[0],popt[1])\n",
        "\n",
        "plt.plot(casos_millon,cerro_fronteras,'.',label=\"Datos\")\n",
        "plt.plot(x_plot,cierre_fronteras_ajuste_1,label=\"Ajuste\")\n",
        "plt.legend()\n",
        "plt.xlabel('Cantidad de casos por millon de habitantes')\n",
        "plt.ylabel('Cerro las fronteras')"
      ]
    },
    {
      "cell_type": "code",
      "execution_count": 26,
      "metadata": {},
      "outputs": [
        {
          "name": "stderr",
          "output_type": "stream",
          "text": [
            "<ipython-input-24-130839f5d03e>:2: RuntimeWarning: overflow encountered in exp\n",
            "  y = 1 / (1 + np.exp(-k*(x-x0)))\n"
          ]
        },
        {
          "data": {
            "text/plain": [
              "Text(0, 0.5, 'Cerro las fronteras')"
            ]
          },
          "execution_count": 26,
          "metadata": {},
          "output_type": "execute_result"
        },
        {
          "data": {
            "image/png": "[encoded data removed]",
            "text/plain": [
              "<Figure size 432x288 with 1 Axes>"
            ]
          },
          "metadata": {
            "needs_background": "light"
          },
          "output_type": "display_data"
        }
      ],
      "source": [
        "# Para muertes por millon de habitantes\n",
        "\n",
        "p0 = [np.median(muertes_millon),1] # punto de partida para los parámetros\n",
        "popt2, pcov = curve_fit(sigmoidea,muertes_millon, cerro_fronteras,p0, method='dogbox') # Fiteo\n",
        "\n",
        "x_plot_2=np.arange(min(muertes_millon),max(muertes_millon),0.1)\n",
        "cierre_fronteras_ajust_2=sigmoidea(x_plot_2,popt2[0],popt2[1]) # Usamos lo ajustado para predecir\n",
        "\n",
        "plt.plot(muertes_millon,cerro_fronteras,'.',label=\"Datos\")\n",
        "plt.plot(x_plot_2,cierre_fronteras_ajust_2,label=\"Ajuste\")\n",
        "plt.legend()\n",
        "plt.xlabel('Cantidad de muertes por millon de habitantes')\n",
        "plt.ylabel('Cerro las fronteras')"
      ]
    },
    {
      "cell_type": "markdown",
      "metadata": {},
      "source": [
        "## Probamos con otros países\n",
        "\n",
        "1. Aplicaron cierre de fronteras completo de más de 365 días\n",
        "    1. Uruguay ([Fuente](https://www.gub.uy/presidencia/comunicacion/noticias/uruguay-reabrio-sus-fronteras-turistas-todo-mundo)\n",
        "    2. Nueva Zelanda ([Fuente](https://www.theguardian.com/world/2021/nov/24/new-zealand-to-reopen-borders-to-vaccinated-visitors-from-new-year))\n",
        "\n",
        "2. No aplicaron cierre de fronteras completo de mas de 365 dias\n",
        "    1. Colombia ([Fuente](https://www.infobae.com/america/colombia/2020/12/01/colombia-abre-nuevamente-sus-fronteras-maritimas-y-fluviales/))\n",
        "    2. Sudáfrica ([Fuente](https://www.reuters.com/article/us-health-coronavirus-safrica-idUSKBN27R2WS))"
      ]
    },
    {
      "cell_type": "code",
      "execution_count": 27,
      "metadata": {},
      "outputs": [
        {
          "name": "stdout",
          "output_type": "stream",
          "text": [
            "['Uruguay', 'New Zealand', 'South Africa', 'Colombia']\n"
          ]
        },
        {
          "name": "stderr",
          "output_type": "stream",
          "text": [
            "<ipython-input-24-130839f5d03e>:2: RuntimeWarning: overflow encountered in exp\n",
            "  y = 1 / (1 + np.exp(-k*(x-x0)))\n"
          ]
        },
        {
          "data": {
            "image/png": "[encoded data removed]",
            "text/plain": [
              "<Figure size 432x288 with 1 Axes>"
            ]
          },
          "metadata": {
            "needs_background": "light"
          },
          "output_type": "display_data"
        },
        {
          "name": "stderr",
          "output_type": "stream",
          "text": [
            "<ipython-input-24-130839f5d03e>:2: RuntimeWarning: overflow encountered in exp\n",
            "  y = 1 / (1 + np.exp(-k*(x-x0)))\n"
          ]
        },
        {
          "data": {
            "text/plain": [
              "Text(0, 0.5, 'Cerro las fronteras')"
            ]
          },
          "execution_count": 27,
          "metadata": {},
          "output_type": "execute_result"
        },
        {
          "data": {
            "image/png": "[encoded data removed]",
            "text/plain": [
              "<Figure size 432x288 with 1 Axes>"
            ]
          },
          "metadata": {
            "needs_background": "light"
          },
          "output_type": "display_data"
        }
      ],
      "source": [
        "# Probamos estos clasificadores en otros paises nuevos\n",
        "\n",
        "del df\n",
        "df = data.loc[(data['location'] == \"Uruguay\" ) | (data['location'] == \"New Zealand\") | (data['location'] == \"South Africa\") | (data['location'] == \"Colombia\")]\n",
        "df = df[['location','total_cases', 'new_cases','total_cases_per_million', 'total_deaths','new_deaths','total_deaths_per_million','hosp_patients_per_million']].copy()\n",
        "\n",
        "del lista_paises\n",
        "\n",
        "lista_paises = [\"Uruguay\",\"New Zealand\",\"South Africa\",\"Colombia\"]\n",
        "cerro_fronteras = [1,1,0,0]\n",
        "casos_millon= []\n",
        "muertes_millon= []\n",
        "hosp_millon= []\n",
        "\n",
        "for pais in lista_paises:\n",
        "   \n",
        "    df_aux=df\n",
        "    mask = df_aux.location==pais\n",
        "    df_aux = df[mask]\n",
        "\n",
        "    max_c = df_aux[\"total_cases_per_million\"].max()\n",
        "    max_d = df_aux[\"total_deaths_per_million\"].max()\n",
        "    max_h = df_aux[\"hosp_patients_per_million\"].max()\n",
        "    \n",
        "    casos_millon.append(max_c)\n",
        "    muertes_millon.append(max_d)\n",
        "    hosp_millon.append(max_h)\n",
        "\n",
        "    del df_aux\n",
        "\n",
        "print(lista_paises)\n",
        "\n",
        "# Para casos por millon de habitantes usando los datos previamente fiteados\n",
        "\n",
        "x_plot=np.arange(min(casos_millon),max(casos_millon),0.1)\n",
        "cierre_fronteras_ajuste_1=sigmoidea(x_plot,popt[0],popt[1])\n",
        "\n",
        "plt.plot(casos_millon,cerro_fronteras,'.',label=\"Datos\")\n",
        "plt.plot(x_plot,cierre_fronteras_ajuste_1,label=\"Ajuste\")\n",
        "plt.legend()\n",
        "plt.xlabel('Cantidad de casos por millon de habitantes')\n",
        "plt.ylabel('Cerro las fronteras')\n",
        "plt.show()\n",
        "\n",
        "# Para muertes por millon de habitantes usando los datos previamente fiteados\n",
        "\n",
        "x_plot_2=np.arange(min(muertes_millon),max(muertes_millon),0.1)\n",
        "cierre_fronteras_ajust_2=sigmoidea(x_plot_2,popt2[0],popt2[1]) # Usamos lo ajustado para predecir\n",
        "\n",
        "plt.plot(muertes_millon,cerro_fronteras,'.',label=\"Datos\")\n",
        "plt.plot(x_plot_2,cierre_fronteras_ajust_2,label=\"Ajuste\")\n",
        "plt.legend()\n",
        "plt.xlabel('Cantidad de muertes por millon de habitantes')\n",
        "plt.ylabel('Cerro las fronteras')\n"
      ]
    },
    {
      "cell_type": "markdown",
      "metadata": {},
      "source": [
        "## Conclusiones\n",
        "\n",
        "Estos clasificadores no son de gran utilidad. El contexto pandémico es muy complejo, y políticas como el cierre de fronteras uno esperaría que resulten un una menor cantidad de casos o muertes totales a la larga, pero no es así. Cada país/estado/cultura responde a una política implementada por su gobierno de manera muy diferente y son muchos los factores que influyen a la hora de predecir si una política fue eficiente o no y normalmente, los casos y muertes totales por millón de un país son producto de las múltiples (o no) implementaciones de diferentes políticas y no de una sola. "
      ]
    },
    {
      "cell_type": "markdown",
      "metadata": {},
      "source": [
        "# 03 - Investigación"
      ]
    },
    {
      "cell_type": "markdown",
      "metadata": {},
      "source": [
        "Durante la pandemia se habló mucho del impacto que tenía el virus SARS-CoV-2 en la gente que era fumadora ([Link](https://publications.jrc.ec.europa.eu/repository/handle/JRC121837)) y muchos investigadores están planteando una paradoja de los fumadores ya que parecieran estar protegidos y ser menos propensos a enfermarse que los fumadores.\n",
        "\n",
        "¿Es posible buscar algún tipo de relación entre la cantidad de contagiados y la cantidad de fumadores de un país?"
      ]
    },
    {
      "cell_type": "code",
      "execution_count": 33,
      "metadata": {},
      "outputs": [
        {
          "name": "stdout",
          "output_type": "stream",
          "text": [
            "690230\n",
            "453705\n"
          ]
        }
      ],
      "source": [
        "# Analicemos cuales son los paises con mas y con menos fumadores\n",
        "\n",
        "del df\n",
        "df = data[['location','total_cases','total_cases_per_million','female_smokers','male_smokers']].copy()\n",
        "print(df.size)\n",
        "df = df.dropna()\n",
        "print(df.size)"
      ]
    },
    {
      "cell_type": "markdown",
      "metadata": {},
      "source": [
        "**Comentario:** Hay muchos países sin información al respecto de cuantos fumadores poseen, pero aún asi sigue habiendo mucha información disponible.  "
      ]
    },
    {
      "cell_type": "code",
      "execution_count": 40,
      "metadata": {},
      "outputs": [
        {
          "data": {
            "text/html": [
              "<div>\n",
              "<style scoped>\n",
              "    .dataframe tbody tr th:only-of-type {\n",
              "        vertical-align: middle;\n",
              "    }\n",
              "\n",
              "    .dataframe tbody tr th {\n",
              "        vertical-align: top;\n",
              "    }\n",
              "\n",
              "    .dataframe thead th {\n",
              "        text-align: right;\n",
              "    }\n",
              "</style>\n",
              "<table border=\"1\" class=\"dataframe\">\n",
              "  <thead>\n",
              "    <tr style=\"text-align: right;\">\n",
              "      <th></th>\n",
              "      <th>location</th>\n",
              "      <th>total_cases</th>\n",
              "      <th>total_cases_per_million</th>\n",
              "      <th>female_smokers</th>\n",
              "      <th>male_smokers</th>\n",
              "    </tr>\n",
              "  </thead>\n",
              "  <tbody>\n",
              "    <tr>\n",
              "      <th>123471</th>\n",
              "      <td>Timor</td>\n",
              "      <td>1.0</td>\n",
              "      <td>0.744</td>\n",
              "      <td>6.3</td>\n",
              "      <td>78.1</td>\n",
              "    </tr>\n",
              "    <tr>\n",
              "      <th>57203</th>\n",
              "      <td>Indonesia</td>\n",
              "      <td>2.0</td>\n",
              "      <td>0.007</td>\n",
              "      <td>2.8</td>\n",
              "      <td>76.1</td>\n",
              "    </tr>\n",
              "    <tr>\n",
              "      <th>125713</th>\n",
              "      <td>Tunisia</td>\n",
              "      <td>1.0</td>\n",
              "      <td>0.084</td>\n",
              "      <td>1.1</td>\n",
              "      <td>65.8</td>\n",
              "    </tr>\n",
              "    <tr>\n",
              "      <th>65615</th>\n",
              "      <td>Kiribati</td>\n",
              "      <td>1.0</td>\n",
              "      <td>8.238</td>\n",
              "      <td>35.9</td>\n",
              "      <td>58.9</td>\n",
              "    </tr>\n",
              "    <tr>\n",
              "      <th>102314</th>\n",
              "      <td>Russia</td>\n",
              "      <td>2.0</td>\n",
              "      <td>0.014</td>\n",
              "      <td>23.4</td>\n",
              "      <td>58.3</td>\n",
              "    </tr>\n",
              "  </tbody>\n",
              "</table>\n",
              "</div>"
            ],
            "text/plain": [
              "         location  total_cases  total_cases_per_million  female_smokers  \\\n",
              "123471      Timor          1.0                    0.744             6.3   \n",
              "57203   Indonesia          2.0                    0.007             2.8   \n",
              "125713    Tunisia          1.0                    0.084             1.1   \n",
              "65615    Kiribati          1.0                    8.238            35.9   \n",
              "102314     Russia          2.0                    0.014            23.4   \n",
              "\n",
              "        male_smokers  \n",
              "123471          78.1  \n",
              "57203           76.1  \n",
              "125713          65.8  \n",
              "65615           58.9  \n",
              "102314          58.3  "
            ]
          },
          "execution_count": 40,
          "metadata": {},
          "output_type": "execute_result"
        }
      ],
      "source": [
        "# Los 5 países con los hombres más fumadores\n",
        "df = df.drop_duplicates(subset=['male_smokers'])\n",
        "\n",
        "df.nlargest(5, ['male_smokers'])"
      ]
    },
    {
      "cell_type": "code",
      "execution_count": 41,
      "metadata": {},
      "outputs": [
        {
          "data": {
            "text/html": [
              "<div>\n",
              "<style scoped>\n",
              "    .dataframe tbody tr th:only-of-type {\n",
              "        vertical-align: middle;\n",
              "    }\n",
              "\n",
              "    .dataframe tbody tr th {\n",
              "        vertical-align: top;\n",
              "    }\n",
              "\n",
              "    .dataframe thead th {\n",
              "        text-align: right;\n",
              "    }\n",
              "</style>\n",
              "<table border=\"1\" class=\"dataframe\">\n",
              "  <thead>\n",
              "    <tr style=\"text-align: right;\">\n",
              "      <th></th>\n",
              "      <th>location</th>\n",
              "      <th>total_cases</th>\n",
              "      <th>total_cases_per_million</th>\n",
              "      <th>female_smokers</th>\n",
              "      <th>male_smokers</th>\n",
              "    </tr>\n",
              "  </thead>\n",
              "  <tbody>\n",
              "    <tr>\n",
              "      <th>83508</th>\n",
              "      <td>Montenegro</td>\n",
              "      <td>2.0</td>\n",
              "      <td>3.184</td>\n",
              "      <td>44.0</td>\n",
              "      <td>47.9</td>\n",
              "    </tr>\n",
              "    <tr>\n",
              "      <th>108536</th>\n",
              "      <td>Serbia</td>\n",
              "      <td>1.0</td>\n",
              "      <td>0.146</td>\n",
              "      <td>37.7</td>\n",
              "      <td>40.2</td>\n",
              "    </tr>\n",
              "    <tr>\n",
              "      <th>65615</th>\n",
              "      <td>Kiribati</td>\n",
              "      <td>1.0</td>\n",
              "      <td>8.238</td>\n",
              "      <td>35.9</td>\n",
              "      <td>58.9</td>\n",
              "    </tr>\n",
              "    <tr>\n",
              "      <th>48174</th>\n",
              "      <td>Greece</td>\n",
              "      <td>1.0</td>\n",
              "      <td>0.096</td>\n",
              "      <td>35.3</td>\n",
              "      <td>52.0</td>\n",
              "    </tr>\n",
              "    <tr>\n",
              "      <th>29411</th>\n",
              "      <td>Croatia</td>\n",
              "      <td>1.0</td>\n",
              "      <td>0.245</td>\n",
              "      <td>34.3</td>\n",
              "      <td>39.9</td>\n",
              "    </tr>\n",
              "  </tbody>\n",
              "</table>\n",
              "</div>"
            ],
            "text/plain": [
              "          location  total_cases  total_cases_per_million  female_smokers  \\\n",
              "83508   Montenegro          2.0                    3.184            44.0   \n",
              "108536      Serbia          1.0                    0.146            37.7   \n",
              "65615     Kiribati          1.0                    8.238            35.9   \n",
              "48174       Greece          1.0                    0.096            35.3   \n",
              "29411      Croatia          1.0                    0.245            34.3   \n",
              "\n",
              "        male_smokers  \n",
              "83508           47.9  \n",
              "108536          40.2  \n",
              "65615           58.9  \n",
              "48174           52.0  \n",
              "29411           39.9  "
            ]
          },
          "execution_count": 41,
          "metadata": {},
          "output_type": "execute_result"
        }
      ],
      "source": [
        "# Los 5 países con las mujeres más fumadores\n",
        "\n",
        "df.nlargest(5, ['female_smokers'])"
      ]
    },
    {
      "cell_type": "code",
      "execution_count": 42,
      "metadata": {},
      "outputs": [
        {
          "data": {
            "text/html": [
              "<div>\n",
              "<style scoped>\n",
              "    .dataframe tbody tr th:only-of-type {\n",
              "        vertical-align: middle;\n",
              "    }\n",
              "\n",
              "    .dataframe tbody tr th {\n",
              "        vertical-align: top;\n",
              "    }\n",
              "\n",
              "    .dataframe thead th {\n",
              "        text-align: right;\n",
              "    }\n",
              "</style>\n",
              "<table border=\"1\" class=\"dataframe\">\n",
              "  <thead>\n",
              "    <tr style=\"text-align: right;\">\n",
              "      <th></th>\n",
              "      <th>location</th>\n",
              "      <th>total_cases</th>\n",
              "      <th>total_cases_per_million</th>\n",
              "      <th>female_smokers</th>\n",
              "      <th>male_smokers</th>\n",
              "    </tr>\n",
              "  </thead>\n",
              "  <tbody>\n",
              "    <tr>\n",
              "      <th>47207</th>\n",
              "      <td>Ghana</td>\n",
              "      <td>3.0</td>\n",
              "      <td>0.095</td>\n",
              "      <td>0.3</td>\n",
              "      <td>7.7</td>\n",
              "    </tr>\n",
              "    <tr>\n",
              "      <th>39934</th>\n",
              "      <td>Ethiopia</td>\n",
              "      <td>1.0</td>\n",
              "      <td>0.008</td>\n",
              "      <td>0.4</td>\n",
              "      <td>8.5</td>\n",
              "    </tr>\n",
              "    <tr>\n",
              "      <th>96354</th>\n",
              "      <td>Panama</td>\n",
              "      <td>1.0</td>\n",
              "      <td>0.228</td>\n",
              "      <td>2.4</td>\n",
              "      <td>9.9</td>\n",
              "    </tr>\n",
              "    <tr>\n",
              "      <th>90635</th>\n",
              "      <td>Nigeria</td>\n",
              "      <td>1.0</td>\n",
              "      <td>0.005</td>\n",
              "      <td>0.6</td>\n",
              "      <td>10.8</td>\n",
              "    </tr>\n",
              "    <tr>\n",
              "      <th>38005</th>\n",
              "      <td>Eritrea</td>\n",
              "      <td>1.0</td>\n",
              "      <td>0.278</td>\n",
              "      <td>0.2</td>\n",
              "      <td>11.4</td>\n",
              "    </tr>\n",
              "  </tbody>\n",
              "</table>\n",
              "</div>"
            ],
            "text/plain": [
              "       location  total_cases  total_cases_per_million  female_smokers  \\\n",
              "47207     Ghana          3.0                    0.095             0.3   \n",
              "39934  Ethiopia          1.0                    0.008             0.4   \n",
              "96354    Panama          1.0                    0.228             2.4   \n",
              "90635   Nigeria          1.0                    0.005             0.6   \n",
              "38005   Eritrea          1.0                    0.278             0.2   \n",
              "\n",
              "       male_smokers  \n",
              "47207           7.7  \n",
              "39934           8.5  \n",
              "96354           9.9  \n",
              "90635          10.8  \n",
              "38005          11.4  "
            ]
          },
          "execution_count": 42,
          "metadata": {},
          "output_type": "execute_result"
        }
      ],
      "source": [
        "# Los 5 países con los hombres menos fumadores\n",
        "\n",
        "df.nsmallest(5, ['male_smokers'])"
      ]
    },
    {
      "cell_type": "code",
      "execution_count": 43,
      "metadata": {},
      "outputs": [
        {
          "data": {
            "text/html": [
              "<div>\n",
              "<style scoped>\n",
              "    .dataframe tbody tr th:only-of-type {\n",
              "        vertical-align: middle;\n",
              "    }\n",
              "\n",
              "    .dataframe tbody tr th {\n",
              "        vertical-align: top;\n",
              "    }\n",
              "\n",
              "    .dataframe thead th {\n",
              "        text-align: right;\n",
              "    }\n",
              "</style>\n",
              "<table border=\"1\" class=\"dataframe\">\n",
              "  <thead>\n",
              "    <tr style=\"text-align: right;\">\n",
              "      <th></th>\n",
              "      <th>location</th>\n",
              "      <th>total_cases</th>\n",
              "      <th>total_cases_per_million</th>\n",
              "      <th>female_smokers</th>\n",
              "      <th>male_smokers</th>\n",
              "    </tr>\n",
              "  </thead>\n",
              "  <tbody>\n",
              "    <tr>\n",
              "      <th>90009</th>\n",
              "      <td>Niger</td>\n",
              "      <td>1.0</td>\n",
              "      <td>0.040</td>\n",
              "      <td>0.1</td>\n",
              "      <td>15.4</td>\n",
              "    </tr>\n",
              "    <tr>\n",
              "      <th>36086</th>\n",
              "      <td>Egypt</td>\n",
              "      <td>1.0</td>\n",
              "      <td>0.010</td>\n",
              "      <td>0.2</td>\n",
              "      <td>50.1</td>\n",
              "    </tr>\n",
              "    <tr>\n",
              "      <th>38005</th>\n",
              "      <td>Eritrea</td>\n",
              "      <td>1.0</td>\n",
              "      <td>0.278</td>\n",
              "      <td>0.2</td>\n",
              "      <td>11.4</td>\n",
              "    </tr>\n",
              "    <tr>\n",
              "      <th>8431</th>\n",
              "      <td>Azerbaijan</td>\n",
              "      <td>3.0</td>\n",
              "      <td>0.293</td>\n",
              "      <td>0.3</td>\n",
              "      <td>42.5</td>\n",
              "    </tr>\n",
              "    <tr>\n",
              "      <th>47207</th>\n",
              "      <td>Ghana</td>\n",
              "      <td>3.0</td>\n",
              "      <td>0.095</td>\n",
              "      <td>0.3</td>\n",
              "      <td>7.7</td>\n",
              "    </tr>\n",
              "  </tbody>\n",
              "</table>\n",
              "</div>"
            ],
            "text/plain": [
              "         location  total_cases  total_cases_per_million  female_smokers  \\\n",
              "90009       Niger          1.0                    0.040             0.1   \n",
              "36086       Egypt          1.0                    0.010             0.2   \n",
              "38005     Eritrea          1.0                    0.278             0.2   \n",
              "8431   Azerbaijan          3.0                    0.293             0.3   \n",
              "47207       Ghana          3.0                    0.095             0.3   \n",
              "\n",
              "       male_smokers  \n",
              "90009          15.4  \n",
              "36086          50.1  \n",
              "38005          11.4  \n",
              "8431           42.5  \n",
              "47207           7.7  "
            ]
          },
          "execution_count": 43,
          "metadata": {},
          "output_type": "execute_result"
        }
      ],
      "source": [
        "# Los 5 países con las mujeres menos fumadores\n",
        "\n",
        "df.nsmallest(5, ['female_smokers'])"
      ]
    },
    {
      "cell_type": "markdown",
      "metadata": {},
      "source": [
        "**Conclusión:** Podemos observar que los países con más fumadores hombres son países del sudeste asiático y los menos son africanos. Con respecto a las mujeres, los Balcanes tienen muchas fumadoras y países africanos son los que menos mujeres fumadoras tienen. \n",
        "Por otro lado, dado que este tipo de efecto se estudia caso a caso, es difícil inferir una conclusión de una población tan grande como son los casos diarios. Se deberían comparar muestras iguales de fumadores y no fumadores expuestos al virus e inferir de esos resultados\n"
      ]
    }
  ],
  "metadata": {
    "colab": {
      "name": "proyecto 4.ipynb",
      "provenance": []
    },
    "kernelspec": {
      "display_name": "Python 3",
      "name": "python3"
    },
    "language_info": {
      "codemirror_mode": {
        "name": "ipython",
        "version": 3
      },
      "file_extension": ".py",
      "mimetype": "text/x-python",
      "name": "python",
      "nbconvert_exporter": "python",
      "pygments_lexer": "ipython3",
      "version": "3.9.4"
    }
  },
  "nbformat": 4,
  "nbformat_minor": 0
}
